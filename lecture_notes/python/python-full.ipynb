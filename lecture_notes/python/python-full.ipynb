{
 "metadata": {
  "name": "",
  "signature": "sha256:860648aa9ac2a40a20796e57ac2a83c379769123046ac57f8d2d5a581a4c2c28"
 },
 "nbformat": 3,
 "nbformat_minor": 0,
 "worksheets": [
  {
   "cells": [
    {
     "cell_type": "markdown",
     "metadata": {},
     "source": [
      "# Scientific Python Basics\n",
      "\n",
      "Prepared by: Chris Holdgraf  \n",
      "Copied from: Justin Kitzes  \n",
      "Thanks to: Matt Davis"
     ]
    },
    {
     "cell_type": "markdown",
     "metadata": {},
     "source": [
      "This tutorial is going to cover the core components of python (and is generalizable to many other computer languages as well). This includes:\n",
      "\n",
      "1. Defining a \"thing\"\n",
      "2. Collections of things\n",
      "3. Manipulating things\n",
      "4. Automation and repetition\n",
      "5. Decision making\n",
      "\n",
      "You should view this as a very quick runthrough of some very core concepts of python. Over time, these will become second nature to you, but in the meantime you can use these materials as reference\n",
      "\n",
      "## 1. Individual things\n",
      "\n",
      "The most basic component of any programming language are \"things\", also called variables or\n",
      "(in special cases) objects.\n",
      "\n",
      "The most common basic \"things\" in Python are integers, floats, strings, booleans, and\n",
      "some special objects of various types. We'll meet many of these as we go through the lesson."
     ]
    },
    {
     "cell_type": "markdown",
     "metadata": {},
     "source": [
      "__TIP:__ To run the code in a cell quickly, press Ctrl-Enter."
     ]
    },
    {
     "cell_type": "markdown",
     "metadata": {},
     "source": [
      "__TIP:__ To quickly create a new cell below an existing one, type Ctrl-m then b.\n",
      "Other shortcuts for making, deleting, and moving cells are in the menubar at the top of the\n",
      "screen."
     ]
    },
    {
     "cell_type": "code",
     "collapsed": false,
     "input": [
      "# A thing\n",
      "2"
     ],
     "language": "python",
     "metadata": {},
     "outputs": []
    },
    {
     "cell_type": "code",
     "collapsed": false,
     "input": [
      "# Use print to show multiple things in the same cell\n",
      "# Note that you can use single or double quotes for strings\n",
      "print 2\n",
      "print 'hello'"
     ],
     "language": "python",
     "metadata": {},
     "outputs": []
    },
    {
     "cell_type": "code",
     "collapsed": false,
     "input": [
      "# Things can be stored as variables\n",
      "a = 2\n",
      "b = 'hello'\n",
      "c = True  # This is case sensitive\n",
      "print a, b, c"
     ],
     "language": "python",
     "metadata": {},
     "outputs": []
    },
    {
     "cell_type": "code",
     "collapsed": false,
     "input": [
      "# The type function tells us the type of thing we have\n",
      "print type(a)\n",
      "print type(b)\n",
      "print type(c)"
     ],
     "language": "python",
     "metadata": {},
     "outputs": []
    },
    {
     "cell_type": "markdown",
     "metadata": {},
     "source": [
      "## 2. Commands that operate on things\n",
      "\n",
      "Just storing data in variables isn't much use to us. Right away, we'd like to start performing\n",
      "operations and manipulations on data and variables.\n",
      "\n",
      "There are three very common means of performing an operation on a thing."
     ]
    },
    {
     "cell_type": "markdown",
     "metadata": {},
     "source": [
      "### 2.1 Use an operator\n",
      "\n",
      "All of the basic math operators work like you think they should for numbers. They can also\n",
      "do some useful operations on other things, like strings. There are also boolean operators that\n",
      "compare quantities and give back a `bool` variable as a result."
     ]
    },
    {
     "cell_type": "code",
     "collapsed": false,
     "input": [
      "# Standard math operators work as expected on numbers\n",
      "a = 2\n",
      "b = 3\n",
      "print a + b\n",
      "print a * b\n",
      "print a ** b"
     ],
     "language": "python",
     "metadata": {},
     "outputs": []
    },
    {
     "cell_type": "code",
     "collapsed": false,
     "input": [
      "# Except for division\n",
      "# Also watch out for exponentiation - you want **, not ^\n",
      "print 2 / 3\n",
      "print 2 / 3.\n",
      "print 2 / float(3)\n",
      "\n",
      "print 2 ** 3\n",
      "print 2 ^ 3"
     ],
     "language": "python",
     "metadata": {},
     "outputs": []
    },
    {
     "cell_type": "code",
     "collapsed": false,
     "input": [
      "# There are also operators for strings\n",
      "print 'hello' + 'world'\n",
      "print 'hello' * 3\n",
      "#print 'hello' / 3"
     ],
     "language": "python",
     "metadata": {},
     "outputs": []
    },
    {
     "cell_type": "code",
     "collapsed": false,
     "input": [
      "# Boolean operators compare two things\n",
      "a = (1 > 3)\n",
      "b = (3 == 3)\n",
      "print a\n",
      "print b\n",
      "print a or b\n",
      "print a and b"
     ],
     "language": "python",
     "metadata": {},
     "outputs": []
    },
    {
     "cell_type": "markdown",
     "metadata": {},
     "source": [
      "### 2.2 Use a function\n",
      "\n",
      "Operators are a quick way to define an operation between two things, but they're a bit limited in their flexibility. To have more freedom to do whatever we want, we can use functions.\n",
      "  \n",
      "These will be very familiar to anyone who has programmed in any language, and work like you\n",
      "would expect.\n",
      "\n",
      "You should always think about three things when dealing with a function: what kind of input does it take, what does it do to that input, and what kind of output does it give. These three things should all be explicit and obvious for anyone using the function (though some are written better than others)"
     ]
    },
    {
     "cell_type": "code",
     "collapsed": false,
     "input": [
      "# There are thousands of functions that operate on things\n",
      "print type(3)\n",
      "print len('hello')\n",
      "print round(3.3)"
     ],
     "language": "python",
     "metadata": {},
     "outputs": []
    },
    {
     "cell_type": "markdown",
     "metadata": {},
     "source": [
      "__TIP:__ To find out what a function does, you can type it's name and then a question mark to\n",
      "get a pop up help window. Or, to see what arguments it takes, you can type its name, an open\n",
      "parenthesis, and hit Shift+tab."
     ]
    },
    {
     "cell_type": "code",
     "collapsed": false,
     "input": [
      "#round?\n",
      "#round(\n",
      "round(3.14159, 2)"
     ],
     "language": "python",
     "metadata": {},
     "outputs": []
    },
    {
     "cell_type": "markdown",
     "metadata": {},
     "source": [
      "Many useful functions are not in the Python built in library, but are in external  \n",
      "scientific packages. These need to be imported into your Python notebook (or program) before they can be used.  \n",
      "  \n",
      "One of python's great strengths is in its extensive set of packages. If you want to do something in python, there's a good chance someone else has already thought of this, and written it into a package.\n",
      "  \n",
      "Some of the most useful packages for scientific computing in python are:\n",
      "* Numpy\n",
      "* Matplotlib\n",
      "* Scipy\n",
      "\n",
      "And these packages add extra feature and extensibility on top of the core scientific stack:\n",
      "* Pandas\n",
      "* Statsmodels\n",
      "* Scikit-learn\n",
      "\n",
      "Plus, there are __tons__ of domain-specific packages with a lot of great code for particular use cases"
     ]
    },
    {
     "cell_type": "code",
     "collapsed": true,
     "input": [
      "# Many useful functions are in external packages\n",
      "# Let's meet numpy\n",
      "import numpy as np"
     ],
     "language": "python",
     "metadata": {},
     "outputs": []
    },
    {
     "cell_type": "code",
     "collapsed": true,
     "input": [
      "# To see what's in a package, type the name, a period, then hit tab\n",
      "#np?\n",
      "#np."
     ],
     "language": "python",
     "metadata": {},
     "outputs": []
    },
    {
     "cell_type": "code",
     "collapsed": false,
     "input": [
      "# Some examples of numpy functions and \"things\"\n",
      "print np.sqrt(4)\n",
      "print np.pi  # Not a function, just a variable\n",
      "print np.sin(np.pi)"
     ],
     "language": "python",
     "metadata": {},
     "outputs": []
    },
    {
     "cell_type": "markdown",
     "metadata": {},
     "source": [
      "### 2.3 Use a method\n",
      "\n",
      "Before we get any farther into the Python language, we have to say a word about \"objects\". First, read this and engrain it into your brains:\n",
      "\n",
      "We\n",
      "will not be teaching object oriented programming in this workshop, but you will encounter objects\n",
      "throughout Python (in fact, even seemingly simple things like ints and strings are actually\n",
      "objects in Python).\n",
      "\n",
      "_In python, everything is an object_\n",
      "\n",
      "In the simplest terms, you can think of an object as a small bundled \"thing\" that contains within\n",
      "itself both data and functions that operate on that data. For example, strings in Python are\n",
      "objects that contain a set of characters and also various functions that operate on the set of\n",
      "characters. When bundled in an object, these functions are called \"methods\".\n",
      "\n",
      "Instead of the \"normal\" `function(arguments)` syntax, methods are called using the\n",
      "syntax `variable.method(arguments)`."
     ]
    },
    {
     "cell_type": "code",
     "collapsed": false,
     "input": [
      "# A string is actually an object\n",
      "a = 'hello, world'\n",
      "print type(a)"
     ],
     "language": "python",
     "metadata": {},
     "outputs": []
    },
    {
     "cell_type": "markdown",
     "metadata": {},
     "source": [
      "__Note__: A good way to figure out what you can do with an object is to check out what methods it has. If the programmer did a good job designing the code, it should be relatively clear what kinds of things you can do with an object depending on the methods that are available to you."
     ]
    },
    {
     "cell_type": "code",
     "collapsed": false,
     "input": [
      "# Objects have bundled methods\n",
      "#a.\n",
      "print a.capitalize()\n",
      "print a.replace('l', 'X')"
     ],
     "language": "python",
     "metadata": {},
     "outputs": []
    },
    {
     "cell_type": "markdown",
     "metadata": {},
     "source": [
      "### EXERCISE 1 - Introducing logistic growth\n",
      "\n",
      "Throughout this lesson, we will successively build towards a program that will calculate the\n",
      "logistic growth of a population of bacteria in a petri dish (or bears in the woods, if you\n",
      "prefer). The exercises will build on each other - if at any time you get behind, you can open the\n",
      "notebook _python-full_ to review answers to the previous exercises and catch up.\n",
      "\n",
      "As a reminder, a commonly used discrete time equation for logistic population growth is\n",
      "\n",
      ">$$n(t+1) = n(t) + r n(t)\\frac{1 - n(t)}{K}$$\n",
      "\n",
      "where n(t) is the population size at time t, r is the net per capita growth rate, and K is the\n",
      "carrying capacity of the dish/woods.\n",
      "\n",
      "To get started, we can just hard-code in the answers to this equation as variables. Write Python expressions that do the following:\n",
      "\n",
      "1. Create variables for `r`, `K`, and `n0`, setting these equal to 0.6, 100, and 10, respectively.\n",
      "1. Create the variable `n1` and calculate it's value. Do the same for `n2`.\n",
      "1. Check the type of `n2` - what is it?\n",
      "1. Modify your calculations for `n1` and `n2` so that these values are rounded to the nearest\n",
      "integer.\n",
      "\n",
      "__Bonus__\n",
      "\n",
      "1. Test whether `n2` is larger than 20, and print out a line that says \"n2 more than 20: \"\n",
      "followed by the answer (either True or False).\n",
      "1. Figure out how to test whether `n2` is an integer (a mathematical integer, not necessarily\n",
      "whether it is an integer type) (HINT: look at the methods of `n2` by typing `n2.` and pressing\n",
      "tab.)"
     ]
    },
    {
     "cell_type": "markdown",
     "metadata": {},
     "source": [
      "__Note:__ What did we have to do first in order to calculate n2? In programming we often have to make assumptions about our inputs in order to make a functioning program. In this case, we assume that n1 has already been calculated. How could we have ensured this?"
     ]
    },
    {
     "cell_type": "code",
     "collapsed": false,
     "input": [
      "r = 0.6\n",
      "K = 100\n",
      "n0 = 10\n",
      "\n",
      "n1 = (n0 + r*n0*(1 - n0/K))\n",
      "n2 = (n1 + r*n1*(1 - n1/K))\n",
      "\n",
      "print n0, n1, n2\n",
      "print type(n2)\n",
      "\n",
      "print 'n2 more than 20: ', n2 > 20\n",
      "print 'n2 is an integer: ', n2.is_integer()"
     ],
     "language": "python",
     "metadata": {},
     "outputs": []
    },
    {
     "cell_type": "markdown",
     "metadata": {},
     "source": [
      "## 3. Collections of things\n",
      "\n",
      "Once the number of variables that you are interested in starts getting large, working with them\n",
      "all individually starts to get unwieldy. To help stay organized, we can use collections of things.\n",
      "\n",
      "Probably 99% of your work in scientific Python will use one of four types of collections:\n",
      "* lists\n",
      "* tuples\n",
      "* dictionaries\n",
      "* numpy arrays.\n",
      "\n",
      "We'll look quickly at each of these and what\n",
      "they can do for you."
     ]
    },
    {
     "cell_type": "markdown",
     "metadata": {},
     "source": [
      "### 3.1 Lists\n",
      "\n",
      "Lists are probably the handiest and most flexible type of container. Lists are declared with\n",
      "square brackets []. Individual elements of a list can be selected using the syntax `a[ind]`."
     ]
    },
    {
     "cell_type": "code",
     "collapsed": false,
     "input": [
      "# Lists are created with square bracket syntax\n",
      "a = ['hi', 'hello', 'yo']\n",
      "print a, type(a)"
     ],
     "language": "python",
     "metadata": {},
     "outputs": []
    },
    {
     "cell_type": "code",
     "collapsed": false,
     "input": [
      "# Lists (and all collections) are also indexed with square brackets\n",
      "# NOTE: The first index is zero, not one\n",
      "print a[0]\n",
      "print a[1]"
     ],
     "language": "python",
     "metadata": {},
     "outputs": []
    },
    {
     "cell_type": "code",
     "collapsed": false,
     "input": [
      "# Lists can be sliced by putting a colon between indexes\n",
      "# NOTE: The end value is not inclusive\n",
      "print a[0:2]"
     ],
     "language": "python",
     "metadata": {},
     "outputs": []
    },
    {
     "cell_type": "code",
     "collapsed": false,
     "input": [
      "# You can leave off the start or end if desired\n",
      "print a[:2]\n",
      "print a[2:]\n",
      "print a[:]\n",
      "print a[:-1]"
     ],
     "language": "python",
     "metadata": {},
     "outputs": []
    },
    {
     "cell_type": "markdown",
     "metadata": {},
     "source": [
      "###A quick aside on how indexing works in python\n",
      "\n",
      "__Note:__ Indexing in python can be a bit confusing because everything starts at zero. However, there's an intuitive reason behind this. Imagine each slot in a list represents a \"bin\", and we can put anything we want into a bin. When we index a list, the index represents the edges of the bins.\n",
      "  \n",
      "So if we say `list[0]`, we mean \"return the thing that's to the right of the 0th edge...aka, the first bin\". When we slice a list like `mylist[1:3]`, we say \"return to me all of the bins between edge 1 and edge 3...aka, the bin between 1 and 2, and the one between 2 and 3.\""
     ]
    },
    {
     "cell_type": "code",
     "collapsed": false,
     "input": [
      "# Lists are objects, like everything else, and have methods such as append\n",
      "a.append('hiya')\n",
      "print a\n",
      "\n",
      "a.append([1,2])\n",
      "print a\n",
      "\n",
      "a.pop()\n",
      "print a"
     ],
     "language": "python",
     "metadata": {},
     "outputs": []
    },
    {
     "cell_type": "markdown",
     "metadata": {},
     "source": [
      "__TIP:__ A 'gotcha' for some new Python users is that many collections, including lists,\n",
      "actually store pointers to data, not the data itself. This makes the language much more efficient,\n",
      "but can lead to some very hard to trace bugs..."
     ]
    },
    {
     "cell_type": "code",
     "collapsed": false,
     "input": [
      "# Assigning b = a does not make a copy of a, rather b and a now point to the same data\n",
      "b = a\n",
      "print a, b\n",
      "b[0] = 'bye'\n",
      "print a, b\n",
      "b[0] = 'hi'\n",
      "\n",
      "# To make a copy, use either list(a) or a[:]\n",
      "b = list(a)\n",
      "print a, b\n",
      "b[0] = 'seeya'\n",
      "print a, b"
     ],
     "language": "python",
     "metadata": {},
     "outputs": []
    },
    {
     "cell_type": "markdown",
     "metadata": {},
     "source": [
      "### EXERCISE 2 - Storing population size in a list\n",
      "\n",
      "Copy your code from Exercise 1 into the box below, and do the following:\n",
      "\n",
      "1. Modify your code so that the values of `n0`, `n1`, `n2`, and `n3` are stored in a list and not as\n",
      "separate individual variables. HINT: You can start off by declaring an empty list using the syntax\n",
      "`n = []`, and then append each new calculated value of `nt` to the list.\n",
      "1. Get the first and last values in the list, calculate their ratio, and print out \"Grew by a factor of \"\n",
      "followed by the result.\n",
      "\n",
      "__Bonus__\n",
      "\n",
      "1. Extract the last value in two different ways: first, by using the index for\n",
      "the last item in the list, and second, presuming that you do not know how long the list is.\n",
      "1. Change the values of `r` and `K` to make sure that your cell still runs correctly and gives\n",
      "reasonable answers."
     ]
    },
    {
     "cell_type": "code",
     "collapsed": false,
     "input": [
      "######################################\n",
      "# This code deletes our old variables\n",
      "try: del n0, n1, n2, r, K\n",
      "except: pass\n",
      "######################################\n",
      "\n",
      "r = 0.6\n",
      "K = 100\n",
      "n = []\n",
      "n.append(10)  # Append n0 in the first location\n",
      "\n",
      "n.append(round(n[0] + r*n[0]*(1 - n[0]/K)))  # Append n1\n",
      "n.append(round(n[1] + r*n[1]*(1 - n[1]/K)))  # Append n2\n",
      "n.append(round(n[2] + r*n[2]*(1 - n[2]/K)))  # Append n3\n",
      "\n",
      "print n\n",
      "\n",
      "print \"Grew by a factor of \", n[3]/n[0]  # or n[-1]/n[0]"
     ],
     "language": "python",
     "metadata": {},
     "outputs": []
    },
    {
     "cell_type": "markdown",
     "metadata": {},
     "source": [
      "### 3.2 Tuples\n",
      "\n",
      "We won't say a whole lot about tuples except to mention that they basically work just like lists, with\n",
      "two major exceptions:\n",
      "\n",
      "1. You declare tuples using () instead of []\n",
      "1. Once you make a tuple, you can't change what's in it\n",
      "\n",
      "You'll see tuples come up throughout the Python language, and over time you'll develop a feel for when\n",
      "to use them. In general, they're often used instead of lists to group items when the position in the\n",
      "collection is critical to understanding the item's meaning, such as (x,y), and when you want to make\n",
      "sure that you don't accidentally modify any of the items later."
     ]
    },
    {
     "cell_type": "markdown",
     "metadata": {},
     "source": [
      "### 3.3 Dictionaries\n",
      "\n",
      "Dictionaries are the collection to use when you want to store and retrieve things by their names\n",
      "(or some other kind of key) instead of by their position in the collection. A good example is a set\n",
      "of model parameters, each of which has a name and a value. Dictionaries are declared using {}."
     ]
    },
    {
     "cell_type": "code",
     "collapsed": false,
     "input": [
      "# Make a dictionary of model parameters\n",
      "params = {'n0': 10, 'r': 0.5}\n",
      "print params\n",
      "print params['r']"
     ],
     "language": "python",
     "metadata": {},
     "outputs": []
    },
    {
     "cell_type": "code",
     "collapsed": false,
     "input": [
      "params['K'] = 200\n",
      "print params"
     ],
     "language": "python",
     "metadata": {},
     "outputs": []
    },
    {
     "cell_type": "code",
     "collapsed": true,
     "input": [
      "#print params['c']"
     ],
     "language": "python",
     "metadata": {},
     "outputs": []
    },
    {
     "cell_type": "markdown",
     "metadata": {},
     "source": [
      "__Note:__ One of the most useful parts of a dictionary is that it allows you to name the variables stored within it. This simple difference can make your life *much* easier in terms of keeping your data in order. For example, I might have a list of 10 different sets of numbers. Maybe I know what each set represents now (e.g., the readings from machings 3-13). \n",
      "  \n",
      "However, if I return to this work in a month, or a year, how will I remember? Dictionaries make this easy, as you can simply use the syntax `{'machine_num': machine_data}`"
     ]
    },
    {
     "cell_type": "markdown",
     "metadata": {},
     "source": [
      "### 3.4 Numpy arrays (ndarrays)\n",
      "\n",
      "Even though numpy arrays (often written as ndarrays, for n-dimensional arrays) are not part of the\n",
      "core Python libraries, they are so useful in scientific Python that we'll include them here in the \n",
      "core lesson. Numpy arrays are collections of things, all of which must be the same type, that work\n",
      "similarly to lists (as we've described them so far). The most important are:\n",
      "\n",
      "1. You can easily perform elementwise operations (and matrix algebra) on arrays\n",
      "1. Arrays can be n-dimensional\n",
      "1. Arrays must be pre-allocated (ie, there is no equivalent to append)\n",
      "\n",
      "Arrays can be created from existing collections such as lists, or instantiated \"from scratch\" in a \n",
      "few useful ways.\n",
      "\n",
      "When getting started with scientific Python, you will probably want to try to use ndarrays whenever\n",
      "possible, saving the other types of collections for those cases when you have a specific reason to use\n",
      "them."
     ]
    },
    {
     "cell_type": "code",
     "collapsed": false,
     "input": [
      "# Make an array from a list\n",
      "alist = [2, 3, 4]\n",
      "blist = [5, 6, 7]\n",
      "a = np.array(alist)\n",
      "b = np.array(blist)\n",
      "print a, type(a)\n",
      "print b, type(b)"
     ],
     "language": "python",
     "metadata": {},
     "outputs": []
    },
    {
     "cell_type": "markdown",
     "metadata": {},
     "source": [
      "__Note__: How do you think you could make a two-dimensional array? AKA, a matrix.\n",
      "Python uses row-based indexing. This means that it thinks of a\n",
      "a matrix as a collection of rows, rather than a collection of columns.\n",
      "Note that this is counter to matlab."
     ]
    },
    {
     "cell_type": "code",
     "collapsed": false,
     "input": [
      "# Do arithmetic on arrays\n",
      "print a**2\n",
      "print np.sin(a)\n",
      "print a * b\n",
      "print a.dot(b), np.dot(a, b)"
     ],
     "language": "python",
     "metadata": {},
     "outputs": []
    },
    {
     "cell_type": "code",
     "collapsed": false,
     "input": [
      "# Boolean operators work on arrays too, and they return boolean arrays\n",
      "print a > 2\n",
      "print b == 6\n",
      "\n",
      "c = a > 2\n",
      "print c\n",
      "print type(c)\n",
      "print c.dtype"
     ],
     "language": "python",
     "metadata": {},
     "outputs": []
    },
    {
     "cell_type": "code",
     "collapsed": false,
     "input": [
      "# Indexing arrays\n",
      "print a[0:2]\n",
      "\n",
      "c = np.random.rand(3,3)\n",
      "print c\n",
      "print '\\n'\n",
      "print c[1:3,0:2]\n",
      "\n",
      "c[0,:] = a\n",
      "print '\\n'\n",
      "print c"
     ],
     "language": "python",
     "metadata": {},
     "outputs": []
    },
    {
     "cell_type": "code",
     "collapsed": false,
     "input": [
      "# Arrays can also be indexed with other boolean arrays\n",
      "print a\n",
      "print b\n",
      "print a > 2\n",
      "print a[a > 2]\n",
      "print b[a > 2]\n",
      "\n",
      "b[a == 3] = 77\n",
      "print b"
     ],
     "language": "python",
     "metadata": {},
     "outputs": []
    },
    {
     "cell_type": "code",
     "collapsed": false,
     "input": [
      "# ndarrays have attributes in addition to methods\n",
      "#c.\n",
      "print c.shape\n",
      "print c.prod()"
     ],
     "language": "python",
     "metadata": {},
     "outputs": []
    },
    {
     "cell_type": "code",
     "collapsed": false,
     "input": [
      "# There are handy ways to make arrays full of ones and zeros\n",
      "print np.zeros(5), '\\n'\n",
      "print np.ones(5), '\\n'\n",
      "print np.identity(5), '\\n'"
     ],
     "language": "python",
     "metadata": {},
     "outputs": []
    },
    {
     "cell_type": "code",
     "collapsed": false,
     "input": [
      "# You can also easily make arrays of number sequences\n",
      "print np.arange(10)\n",
      "print np.arange(0, 10, 2)\n",
      "print np.linspace(5, 10, 33)"
     ],
     "language": "python",
     "metadata": {},
     "outputs": []
    },
    {
     "cell_type": "markdown",
     "metadata": {},
     "source": [
      "### EXERCISE 3 - Storing data in arrays\n",
      " \n",
      "Copy your code from Exercise 2 into the box below, and do the following:\n",
      "\n",
      "1. Modify your code to store the calculation results in an array instead of a list. HINT: \n",
      "Make sure to pre-allocate space for the array using np.zeros() or something similar. Pre-allocate an\n",
      "array of length 100, as if we were going to fill in 100 time steps, including n0.\n",
      "2. Imagine that each discrete time step actually represents 0.25 of an hour. Create an array `t` storing\n",
      "the time, in hours, of each step of the calculations (for example, t0 is 0, t1 is 0.25, t2 is 0.5, etc.)\n",
      "up to 100 time steps (the final time will thus be 24.75).\n",
      "3. Use boolean indexing to extract the value of `n` corresponding to a `t` of 0.5.\n",
      "\n",
      "__Note__: It may seem silly to pre-allocate data with matrices that are this small. But rest assured it is a good practice to get into. One day you'll be dealing with matrices that are much, much larger, and if you've got the knack of pre-allocating already, it'll be much easier to write efficient code and keep your sys-admin from hating you."
     ]
    },
    {
     "cell_type": "code",
     "collapsed": false,
     "input": [
      "r = 0.6\n",
      "K = 100\n",
      "n = np.zeros(100)\n",
      "n[0] = 10\n",
      "\n",
      "n[1] = round(n[0] + r*n[0]*(1 - n[0]/K))\n",
      "n[2] = round(n[1] + r*n[1]*(1 - n[1]/K))\n",
      "n[3] = round(n[2] + r*n[2]*(1 - n[2]/K))\n",
      "\n",
      "print n\n",
      "\n",
      "t = np.arange(0, 25, 0.25)\n",
      "t = np.linspace(0, 25, 100, endpoint=False)\n",
      "print t\n",
      "\n",
      "print n[t == 0.5]"
     ],
     "language": "python",
     "metadata": {},
     "outputs": []
    },
    {
     "cell_type": "markdown",
     "metadata": {},
     "source": [
      "## 4. Repeating yourself\n",
      "\n",
      "So far, everything that we've done could, in principle, be done by hand calculation. In this section\n",
      "and the next, we really start to take advantage of the power of programming languages to do things\n",
      "for us automatically.\n",
      "\n",
      "We start here with ways to repeat yourself. The two most common ways of doing this are known as for\n",
      "loops and while loops. For loops in Python are useful when you want to cycle over all of the items\n",
      "in a collection (such as all of the elements of an array), and while loops are useful when you want to\n",
      "cycle for an indefinite amount of time until some condition is met.\n",
      "\n",
      "The basic examples below will work for looping over lists, tuples, and arrays. Looping over dictionaries\n",
      "is a bit different, since there is a key and a value for each item in a dictionary. Have a look at the\n",
      "Python docs for more information."
     ]
    },
    {
     "cell_type": "code",
     "collapsed": false,
     "input": [
      "# A basic for loop - don't forget the white space!\n",
      "wordlist = ['hi', 'hello', 'bye']\n",
      "for word in wordlist:\n",
      "    print word + '!'"
     ],
     "language": "python",
     "metadata": {},
     "outputs": []
    },
    {
     "cell_type": "code",
     "collapsed": false,
     "input": [
      "# Sum all of the values in a collection using a for loop\n",
      "numlist = [1, 4, 77, 3]\n",
      "\n",
      "total = 0\n",
      "for num in numlist:\n",
      "    total = total + num\n",
      "    \n",
      "print \"Sum is\", total"
     ],
     "language": "python",
     "metadata": {},
     "outputs": []
    },
    {
     "cell_type": "code",
     "collapsed": false,
     "input": [
      "# Often we want to loop over the indexes of a collection, not just the items\n",
      "print wordlist\n",
      "\n",
      "wordrange = np.arange(len(wordlist))\n",
      "print wordrange\n",
      "\n",
      "for i in wordrange:\n",
      "    print i, wordlist[i]\n",
      "    \n",
      "# Pro-tip: there's actually a handy built-in function\n",
      "# to give us index numbers and items of a list at the same time\n",
      "for i, word in enumerate(wordlist):\n",
      "    print i, 'is', word"
     ],
     "language": "python",
     "metadata": {},
     "outputs": []
    },
    {
     "cell_type": "code",
     "collapsed": false,
     "input": [
      "# While loops are useful when you don't know how many steps you will need,\n",
      "# and want to stop once a certain condition is met.\n",
      "step = 0\n",
      "prod = 1\n",
      "while prod < 100:\n",
      "    step = step + 1\n",
      "    prod = prod * 2\n",
      "    print step, prod\n",
      "    \n",
      "print 'Reached a product of', prod, 'at step number', step\n"
     ],
     "language": "python",
     "metadata": {},
     "outputs": []
    },
    {
     "cell_type": "markdown",
     "metadata": {},
     "source": [
      "__TIP:__ Once we start really generating useful and large collections of data, it becomes unwieldy to\n",
      "inspect our results manually. The code below shows how to make a very simple plot of an array.\n",
      "We'll do much more plotting later on, this is just to get started."
     ]
    },
    {
     "cell_type": "code",
     "collapsed": false,
     "input": [
      "# Load up pylab, a useful plotting library\n",
      "%pylab inline\n",
      "\n",
      "# Make some x and y data and plot it\n",
      "y = np.arange(100)**2\n",
      "plot(y)"
     ],
     "language": "python",
     "metadata": {},
     "outputs": []
    },
    {
     "cell_type": "markdown",
     "metadata": {},
     "source": [
      "### EXERCISE 4 - Using loops to repeat calculations\n",
      "\n",
      "FINALLY, let's get smart about our calculations of `nt`. Copy your code from Exercise 3 into the box\n",
      "below, and do the following:\n",
      "\n",
      "1. Write a for loop to fill in the values of `nt` for 100 time steps. HINT: You will need to \n",
      "create an array of the step numbers using a command like `step = np.arange(1, 100)`. (Why does\n",
      "this array start at 1 and not at 0?). Then, loop over the values of the step array,\n",
      "and use each step value to index the array `n`.\n",
      "1. Plot the array `n`.\n",
      "1. Play around with the values of `r` and `K` and see how it changes the plot. What happens if you set\n",
      "`r` to 1.9 or 3?\n",
      "\n",
      "__Bonus__\n",
      "\n",
      "1. Modify your code to use a while loop that will stop your calculation once the population size is\n",
      "greater than 90. HINT: Start a step counter `i` at 1, and check that the value in `n[i-1]` is less than 90\n",
      "each time around the loop. Increment the step counter within the loop so that you have a record\n",
      "of what step the calculation stopped at."
     ]
    },
    {
     "cell_type": "code",
     "collapsed": false,
     "input": [
      "r = 0.6\n",
      "K = 100\n",
      "n = np.zeros(100, dtype=float)\n",
      "n[0] = 10\n",
      "\n",
      "steps = np.arange(1, 100)\n",
      "for i in steps:\n",
      "    n[i] = round(n[i-1] + r*n[i-1]*(1 - n[i-1]/K))\n",
      "    \n",
      "plot(n)"
     ],
     "language": "python",
     "metadata": {},
     "outputs": []
    },
    {
     "cell_type": "code",
     "collapsed": false,
     "input": [
      "r = 0.6\n",
      "K = 100\n",
      "n = np.zeros(100)\n",
      "n[0] = 10\n",
      "\n",
      "i = 1\n",
      "while n[i-1] < 90:\n",
      "    n[i] = round(n[i-1] + r*n[i-1]*(1 - n[i-1]/K))\n",
      "    print i, n[i]\n",
      "    i = i + 1\n",
      "    \n",
      "print 'Ended with a population size of', n[i-1], 'at step', i-1\n",
      "print 'Population sizes to this step were', n[0:i]"
     ],
     "language": "python",
     "metadata": {},
     "outputs": []
    },
    {
     "cell_type": "markdown",
     "metadata": {},
     "source": [
      "I know that we just told you all how useful loops are, but now I'm going to say that you should try and avoid using them if at all possible. Loops make things a lot faster than doing computation by hand. But there are also ways to get things done a lot faster than using a for loop.\n",
      "  \n",
      "A great example of this is the dot product. Sure, you could iterate through two vectors and calculate their dot product, or you could just use `np.dot(a, b)` which calls some C code. That's WAY faster."
     ]
    },
    {
     "cell_type": "markdown",
     "metadata": {},
     "source": [
      "## 5. Making choices\n",
      "\n",
      "Often we want to check if a condition is True and take one action if it is, and another action if the\n",
      "condition is False. We can achieve this in Python with an if statement.\n",
      "\n",
      "__TIP:__ You can use any expression that returns a boolean value (True or False) in an if statement.\n",
      "Common boolean operators are ==, !=, <, <=, >, >=. You can also use `is` and `is not` if you want to\n",
      "check if two variables are identical in the sense that they are stored in the same location in memory."
     ]
    },
    {
     "cell_type": "code",
     "collapsed": false,
     "input": [
      "# A simple if statement\n",
      "x = 3\n",
      "if x > 0:\n",
      "    print 'x is positive'\n",
      "elif x < 0:\n",
      "    print 'x is negative'\n",
      "else:\n",
      "    print 'x is zero'"
     ],
     "language": "python",
     "metadata": {},
     "outputs": []
    },
    {
     "cell_type": "code",
     "collapsed": true,
     "input": [
      "# If statements can rely on boolean variables\n",
      "x = -1\n",
      "test = (x > 0)\n",
      "if test:\n",
      "    print 'Test was true'"
     ],
     "language": "python",
     "metadata": {},
     "outputs": []
    },
    {
     "cell_type": "markdown",
     "metadata": {},
     "source": [
      "### EXERCISE 5 - Making the model stochastic with an if statement\n",
      "\n",
      "Deterministic models are boring, so let's introduce some element of randomness into our logistic\n",
      "growth model. We'll model a simple \"catastrophe\" process, in which a catastrophe happens in 10% of the\n",
      "time steps that reduces the population back down to the size at n0. Copy your code from Exercise 4\n",
      "into the box below, and do the following:\n",
      "\n",
      "1. Inside your for loop, add a variable called `cata`, for catastrophe, that will be True if a catastrophe\n",
      "has occurred, and False if it hasn't. A simple way to do this is to generate a random number using\n",
      "`np.random.rand()`, which will give you a pseudorandom number between 0 and 1. Check whether this number\n",
      "is less than 0.1 - this check will be True 10% of the time.\n",
      "1. Using your boolean variable `cata`, add an if statement to your for loop that checks whether `cat` is\n",
      "true in each time step. If it is true, set the population back to the size at n[0]. Otherwise, perform\n",
      "the usual logistic growth calculation.\n",
      "1. Plot your results. Run the cell again to see a different random population growth path.\n",
      "\n",
      "__Bonus__\n",
      "\n",
      "1. Now that you have the array `n`, count the number of time steps in which the population was above 50.\n",
      "Although you can do this with a for loop (loop through each value of `nt`, check if it is > 50, and if so\n",
      "increment a counter), you can do this in one line with a simple boolean operation.\n",
      "HINT: If you take the sum of a boolean array (using `np.sum()`), it will give you the number of\n",
      "True values (since a True is considered to be a 1, and False is a 0)."
     ]
    },
    {
     "cell_type": "code",
     "collapsed": false,
     "input": [
      "# Set up initial model parameters\n",
      "r = 0.6\n",
      "K = 100\n",
      "n = np.zeros(100)\n",
      "n[0] = 10\n",
      "\n",
      "# Loop through all time steps\n",
      "steps = np.arange(1, 100)\n",
      "for i in steps:\n",
      "    cat = (np.random.rand() < 0.1)  # Random catastrophe 10% of time\n",
      "    if cat:\n",
      "        n[i] = n[0]\n",
      "    else:\n",
      "        n[i] = round(n[i-1] + r*n[i-1]*(1 - n[i-1]/K))\n",
      "    \n",
      "plot(n)\n",
      "\n",
      "print 'Population was above 50 in', np.sum(n > 50), 'out of 100 steps'"
     ],
     "language": "python",
     "metadata": {},
     "outputs": []
    },
    {
     "cell_type": "markdown",
     "metadata": {},
     "source": [
      "## 6. Creating chunks with functions and modules\n",
      "\n",
      "One way to write a program is to simply string together commands, like the ones described above, in a long\n",
      "file, and then to run that file to generate your results. This may work, but it can be cognitively difficult\n",
      "to follow the logic of programs written in this style. Also, it does not allow you to reuse your code\n",
      "easily - for example, what if we wanted to run our logistic growth model for several different choices of\n",
      "initial parameters?\n",
      "\n",
      "The most important ways to \"chunk\" code into more manageable pieces is to create functions and then\n",
      "to gather these functions into modules, and eventually packages. Below we will discuss how to create\n",
      "functions and modules. A third common type of \"chunk\" in Python is classes, but we will not be covering\n",
      "object-oriented programming in this workshop."
     ]
    },
    {
     "cell_type": "code",
     "collapsed": false,
     "input": [
      "# We've been using functions all day\n",
      "x = 3.333333\n",
      "print round(x, 2)\n",
      "print np.sin(x)"
     ],
     "language": "python",
     "metadata": {},
     "outputs": []
    },
    {
     "cell_type": "code",
     "collapsed": true,
     "input": [
      "# It's very easy to write your own functions\n",
      "def multiply(x, y):\n",
      "    return x*y"
     ],
     "language": "python",
     "metadata": {},
     "outputs": []
    },
    {
     "cell_type": "code",
     "collapsed": false,
     "input": [
      "# Once a function is \"run\" and saved in memory, it's available just like any other function\n",
      "print type(multiply)\n",
      "print multiply(4, 3)"
     ],
     "language": "python",
     "metadata": {},
     "outputs": []
    },
    {
     "cell_type": "code",
     "collapsed": true,
     "input": [
      "# It's useful to include docstrings to describe what your function does\n",
      "def say_hello(time, people):\n",
      "    '''\n",
      "    Function says a greeting. Useful for engendering goodwill\n",
      "    '''\n",
      "    return 'Good ' + time + ', ' + people"
     ],
     "language": "python",
     "metadata": {},
     "outputs": []
    },
    {
     "cell_type": "code",
     "collapsed": false,
     "input": [
      "say_hello('afternoon', 'friends')"
     ],
     "language": "python",
     "metadata": {},
     "outputs": []
    },
    {
     "cell_type": "code",
     "collapsed": true,
     "input": [
      "# All arguments must be present, or the function will return an error\n",
      "#say_hello('afternoon')"
     ],
     "language": "python",
     "metadata": {},
     "outputs": []
    },
    {
     "cell_type": "code",
     "collapsed": true,
     "input": [
      "# Keyword arguments can be used to make some arguments optional by giving them a default value\n",
      "# All mandatory arguments must come first, in order\n",
      "def say_hello(time, people='friends'):\n",
      "    return 'Good ' + time + ', ' + people"
     ],
     "language": "python",
     "metadata": {},
     "outputs": []
    },
    {
     "cell_type": "code",
     "collapsed": false,
     "input": [
      "say_hello('afternoon')"
     ],
     "language": "python",
     "metadata": {},
     "outputs": []
    },
    {
     "cell_type": "code",
     "collapsed": false,
     "input": [
      "say_hello('afternoon', 'students')"
     ],
     "language": "python",
     "metadata": {},
     "outputs": []
    },
    {
     "cell_type": "markdown",
     "metadata": {},
     "source": [
      "### EXERCISE 6 - Creating a logistic growth function\n",
      "\n",
      "Finally, let's turn our logistic growth model into a function that we can use over and over again. \n",
      "Copy your code from Exercise 5 into the box below, and do the following:\n",
      "\n",
      "1. Turn your code into a function called `logistic_growth` that takes four arguments: `r`, `K`, `n0`,\n",
      "and `p` (the probability of a catastrophe). Make `p` a keyword argument with a default value of 0.1.\n",
      "Have your function return the `n` array.\n",
      "1. Write a nice docstring describing what your function does.\n",
      "1. In a subsequent cell, call your function with different values of the parameters to make sure it works.\n",
      "Store the returned value of `n` and make a plot from it.\n",
      "\n",
      "__Bonus__\n",
      "\n",
      "1. Refactor your function by pulling out the line that actually performs the calculation of the new\n",
      "population given the old population. Make this line another function called `grow_one_step` that takes\n",
      "in the old population, `r`, and `K`, and returns the new population. Have your `logistic_growth` function\n",
      "use the `grow_one_step` function to calculate the new population in each time step."
     ]
    },
    {
     "cell_type": "code",
     "collapsed": true,
     "input": [
      "def logistic_growth(r, K, n0, p=0.1):\n",
      "    '''\n",
      "    Function to simulate discrete time stochastic logistic growth\n",
      "\n",
      "    Arguments\n",
      "    ---------\n",
      "    r : float\n",
      "        Reproductive rate of population\n",
      "    K : float\n",
      "        Carrying capacity\n",
      "    n0 : float\n",
      "        Initial population\n",
      "    p : float\n",
      "        Probability of a catastrophe resetting the population to n0\n",
      "\n",
      "    Returns\n",
      "    -------\n",
      "    n : ndarray\n",
      "        Array of 100 time steps of population values\n",
      "    '''\n",
      "    \n",
      "    # Set up population array\n",
      "    n = np.zeros(100, dtype=float)\n",
      "    n[0] = n0\n",
      "\n",
      "    # Loop through all time steps\n",
      "    steps = np.arange(1, 100)\n",
      "    for i in steps:\n",
      "        cat = (np.random.rand() < p)  # Random catastrophe 10% of time\n",
      "        if cat:\n",
      "            n[i] = 10\n",
      "        else:\n",
      "            n[i] = grow_one_step(n[i-1], r, K)\n",
      "    \n",
      "    return n\n",
      "\n",
      "def grow_one_step(nold, r, K):\n",
      "    '''Calculate new population from old one.'''\n",
      "    return round(nold + r*nold*(1 - nold/K))"
     ],
     "language": "python",
     "metadata": {},
     "outputs": []
    },
    {
     "cell_type": "code",
     "collapsed": false,
     "input": [
      "a1 = logistic_growth(0.6, 100, 10)\n",
      "a2 = logistic_growth(0.6, 100, 10)\n",
      "a3 = logistic_growth(0.6, 100, 10)\n",
      "\n",
      "hold(True)\n",
      "plot(a1)\n",
      "plot(a2)\n",
      "plot(a3)"
     ],
     "language": "python",
     "metadata": {},
     "outputs": []
    },
    {
     "cell_type": "markdown",
     "metadata": {},
     "source": [
      "## 7. Creating a module\n",
      "\n",
      "Once we have enough functions, it may be worth our time to put them in a separate file that we can import, rather than keep them all defined in our script.\n",
      "\n",
      "When should I put my code into a module? This is a complex question that will have a different answer for each person. In general, you should think about putting functions into modules that you imagine using many times on different kinds of data.\n",
      "  \n",
      "When you do this, take the time to write a good docstring, as well as double check the code for any errors that might happen if you, for example, used an integer as input instead of a float, or used a single number instead of a list."
     ]
    },
    {
     "cell_type": "markdown",
     "metadata": {},
     "source": [
      "### EXERCISE 7 - Putting the growth function(s) in a module\n",
      "\n",
      "We can make our functions more easily reusable by placing them into modules that we can import, just\n",
      "like we have been doing with `numpy`. It's pretty simple to do this.\n",
      "\n",
      "1. Copy your function(s) from Exercise 6 into a new text file, in the same directory as this notebook,\n",
      "called `pop.py`.\n",
      "1. In the cell below, type `import pop` to import the module. Type `pop.` and hit tab to see the available\n",
      "functions in the module. Try running the logistic growth function that was imported from the module with\n",
      "a few different parameter values."
     ]
    },
    {
     "cell_type": "code",
     "collapsed": true,
     "input": [
      "# import pop\n",
      "# plot(pop.logistic_growth(0.6, 100, 10))"
     ],
     "language": "python",
     "metadata": {},
     "outputs": []
    },
    {
     "cell_type": "markdown",
     "metadata": {},
     "source": [
      "Whenever you use \"import\" statements in python, these basically just search the PYTHONPATH for a folder corresponding to the thing you're trying to import. This folder will have python scripts that define functions, classes, etc. By importing these scripts, you gain access to these functions.\n",
      "\n",
      "Putting a module in a folder that is searchable on the PYTHONPATH is for another day. For now, we'll just put these scripts in the folder we ran python from."
     ]
    },
    {
     "cell_type": "code",
     "collapsed": false,
     "input": [],
     "language": "python",
     "metadata": {},
     "outputs": []
    }
   ],
   "metadata": {}
  }
 ]
}