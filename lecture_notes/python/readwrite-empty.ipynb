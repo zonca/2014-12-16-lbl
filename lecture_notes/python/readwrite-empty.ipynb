{
 "metadata": {
  "name": "",
  "signature": "sha256:feeb75c1298222611b22f9602e1a1fe2292b5f1f066163b59f756ee219d88c75"
 },
 "nbformat": 3,
 "nbformat_minor": 0,
 "worksheets": [
  {
   "cells": [
    {
     "cell_type": "markdown",
     "metadata": {},
     "source": [
      "# Reading and Writing Files using Python\n",
      "\n",
      "_Prepared by: Chris Holdgraf  \n",
      "Original by: Justin Kitzes_"
     ]
    },
    {
     "cell_type": "markdown",
     "metadata": {},
     "source": [
      "## 1. Introduction\n",
      "\n",
      "The core Python libraries, along with external packages such as `numpy`, `matplotlib`, `pandas`, and others,\n",
      "provide both low-level and high-level methods for extracting data from files, processing this data, and\n",
      "saving results back to disk.\n",
      "\n",
      "__In this lesson, we will read text-based data files in two ways...__\n",
      "\n",
      "1. We will use Python's low level\n",
      "file reader and writer to examine the contents of a relatively unstructured text file, perform some analysis,\n",
      "and write our results back out to another text file. \n",
      "1. We will use high-level helper functions\n",
      "from `matplotlib` and `pandas` to easily read, modify, and write back out a comma-separated-values (csv) file.\n",
      "\n",
      ">In general, you want to use easy, high-level approaches whenever possible (they will save you time\n",
      "and probably errors) and switch over to the low-level methods when your data have an unusual structure\n",
      "that the high-level readers cannot deal with easily. "
     ]
    },
    {
     "cell_type": "markdown",
     "metadata": {},
     "source": [
      "## 2. Reading and writing text files line-by-line\n",
      "\n",
      "The most basic way to get data into Python is to open a text file, read it line by line, and examine\n",
      "each line in turn to determine what to do with it (ie, save it, skip it, extract some information, etc.).\n",
      "\n",
      "This method will work on any type of file, including tables in csv format. However, this method really becomes\n",
      "useful when you find yourself with a \"unique\" type of data record, such as the one in the sample file\n",
      "shown below."
     ]
    },
    {
     "cell_type": "code",
     "collapsed": false,
     "input": [
      "# Load numpy once again, and the plotting library for good measure\n",
      "import numpy as np\n",
      "%pylab inline"
     ],
     "language": "python",
     "metadata": {},
     "outputs": []
    },
    {
     "cell_type": "code",
     "collapsed": false,
     "input": [
      "# We have a data file with records of animal sightings in it\n",
      "# Notice that there's a lot of structure here which we can use to our benefit\n"
     ],
     "language": "python",
     "metadata": {},
     "outputs": []
    },
    {
     "cell_type": "code",
     "collapsed": true,
     "input": [
      "# Let's read the file line by line, and print each line back out (watch for newline characters)\n"
     ],
     "language": "python",
     "metadata": {},
     "outputs": []
    },
    {
     "cell_type": "code",
     "collapsed": true,
     "input": [
      "# Let's only print out the lines that have counts\n"
     ],
     "language": "python",
     "metadata": {},
     "outputs": []
    },
    {
     "cell_type": "code",
     "collapsed": true,
     "input": [
      "# Instead of printing the count, let's get the count and add it to a total\n",
      "# a = 'Count: 5'\n",
      "# print a.split(' ')[1]\n"
     ],
     "language": "python",
     "metadata": {},
     "outputs": []
    },
    {
     "cell_type": "code",
     "collapsed": true,
     "input": [
      "# Finally, let's write out our answer to a new file\n",
      "# Note that we must explicitly tell python to close the file.\n"
     ],
     "language": "python",
     "metadata": {},
     "outputs": []
    },
    {
     "cell_type": "markdown",
     "metadata": {},
     "source": [
      "*note: don't forget to close your files*"
     ]
    },
    {
     "cell_type": "code",
     "collapsed": true,
     "input": [
      "!cat ./data/sightings_recs_result.txt"
     ],
     "language": "python",
     "metadata": {},
     "outputs": []
    },
    {
     "cell_type": "markdown",
     "metadata": {},
     "source": [
      "### EXERCISE 1 - Reading and writing line by line\n",
      "\n",
      "1. Write code that will figure out the number of records in which the animal Owl appears (not the total\n",
      "count of owls, just the number of times the word 'Owl' appears after the word 'Animal:' on a line).\n",
      "1. Write a results file called 'sightings_recs_owls.txt' that has, on the first line, the string\n",
      "'Counted by [your name]' and, on the second line, the string 'Total owl records:' followed by the number\n",
      "of records mentioing Owl. \n",
      "  - HINT: To write a new line in a file, use the special character '\\n'.\n",
      "2. Run your code on the much larger file 'sightings_recs_lg.txt'. How many records are there for owls?\n",
      "\n",
      "__Bonus__\n",
      "\n",
      "1. Modify your code to calculate the total number of owls seen in this data file (the sum of the counts within\n",
      "all records that have Owl as the animal). \n",
      "  - HINT: Since the animal name comes before the count, one way to\n",
      "do this is to create a new variable called `animal`, and update its value each time the for loop encounters\n",
      "a line that starts with 'Animal:'. Then, when the 'Count:' line is encountered, you should only add the count to\n",
      "your running total if the current value of the variable `animal` is Owl. Watch out for the new line character\n",
      "`\\n` at the end of strings!\n",
      "2. Run your code on the much larger file 'sightings_recs_lg.txt'. How many total owls were seen?"
     ]
    },
    {
     "cell_type": "code",
     "collapsed": true,
     "input": [
      "# Main questions\n"
     ],
     "language": "python",
     "metadata": {},
     "outputs": []
    },
    {
     "cell_type": "code",
     "collapsed": true,
     "input": [
      "# Bonus question\n"
     ],
     "language": "python",
     "metadata": {},
     "outputs": []
    },
    {
     "cell_type": "markdown",
     "metadata": {},
     "source": [
      "This is pretty powerful, but note that the current implementation is really inflexible to different kinds of writings.  For example, say the data collector accidentally wrote one line as \"Animal:Owl\" without a space.  Our first solution wouldn't work, because we've only told the computer to look for the _explicit_ string \"Animal: Owl\".  \n",
      "\n",
      "Many packages exist to make these kinds of things easier.  One thing to know about is \"Regular Expressions\", which are confusing but really powerful.  A package that uses RE in order to match text is called [glob](http://docs.python.org/2/library/glob.html)."
     ]
    },
    {
     "cell_type": "markdown",
     "metadata": {},
     "source": [
      "## 3. Reading and writing tabular data with helper functions\n",
      "\n",
      "The process of reading and writing files becomes MUCH easier if your data is nicely structured, such as if\n",
      "it is formatted as a csv file (like a spreadsheet). In this case, there are a number of high-level helper\n",
      "functions that will help you to read, manipulate, and write this data. \n",
      "\n",
      "One of the most common structures is the \"Comma-separated-values\" file.  This is a file with lines of text that each have \"cells\" whos boundaries are commas.  Often (but not always), the first line is a set of \"column titles\".\n",
      "\n",
      "> We often have control over the way that our data is collected and stored. Lots of headaches can be saved with a little thought on what structure this data will have as we collect it. When making these decisions, think about things like what format your timestamps should be stored in (hint: better to use delineators that make sense, 12_08_1986 is much better than 12081986), as well as how your different values should be separated (in this case we'll use commas, but really it could be anything)"
     ]
    },
    {
     "cell_type": "code",
     "collapsed": false,
     "input": [
      "# Our field tech was much nicer this time, and gave us a csv with the sightings in it\n",
      "!cat sightings_tab_sm.csv"
     ],
     "language": "python",
     "metadata": {},
     "outputs": []
    },
    {
     "cell_type": "markdown",
     "metadata": {},
     "source": [
      "###Pandas\n",
      "\n",
      "There are several packages for dealing with structured data in a more intelligent way (e.g., see [matplotlib.mlab](http://matplotlib.org/api/mlab_api.html) and [recarrays](http://docs.scipy.org/doc/numpy/reference/generated/numpy.recarray.html).  However, in recent years, [Pandas]( http://pandas.pydata.org/) has risen above the rest in its usability and flexibility.\n",
      "\n",
      "Pandas is one of the most powerful tools for doing data analysis in python.  It provides a way of representing, reading/writing, manipulating, analyzing, and plotting your data (among others). It has a fairly steep learning curve, but we assure you it will be worth it.\n",
      "\n",
      "The main data structure in Pandas is known as the \"DataFrame\" (which is quite similar to a Dataframe in R, if you're into that kind of thing...).  It let's you conveniently and clearly store, manipulate, plot, store, filter, etc, all kinds of data.\n",
      "\n",
      "While we can create dataframes manually, here we will use Pandas I/O functionality, which can easily read from csv files (and from many others as well, such as JSON, HTML, or HDF)\n",
      "\n",
      ">Note - Pandas can do *a lot*, and it's a very complicated package to understand in full.  For this tutorial, we will stick with reading in data, looking at it, and writing it     back to a file.  If you want to do more with pandas, check out the [extensive documentation](http://pandas.pydata.org/pandas-docs/stable/) online (though be prepared for a relatively steep learning curve)"
     ]
    },
    {
     "cell_type": "code",
     "collapsed": false,
     "input": [
      "import pandas as pd"
     ],
     "language": "python",
     "metadata": {},
     "outputs": []
    },
    {
     "cell_type": "code",
     "collapsed": false,
     "input": [
      "!cat sightings_tab_sm.csv"
     ],
     "language": "python",
     "metadata": {},
     "outputs": []
    },
    {
     "cell_type": "code",
     "collapsed": false,
     "input": [
      "# First we will read in the data from the CSV file.\n"
     ],
     "language": "python",
     "metadata": {},
     "outputs": []
    },
    {
     "cell_type": "code",
     "collapsed": false,
     "input": [
      "# Pandas has inherent fanciness that displays data in nice tabular format.\n"
     ],
     "language": "python",
     "metadata": {},
     "outputs": []
    },
    {
     "cell_type": "markdown",
     "metadata": {},
     "source": [
      "**iloc**: The simplest way to select data in a pandas dataframe.  We can use the \"iloc\" method to select data as if it were an array:"
     ]
    },
    {
     "cell_type": "code",
     "collapsed": false,
     "input": [],
     "language": "python",
     "metadata": {},
     "outputs": []
    },
    {
     "cell_type": "code",
     "collapsed": false,
     "input": [],
     "language": "python",
     "metadata": {},
     "outputs": []
    },
    {
     "cell_type": "code",
     "collapsed": false,
     "input": [
      "# Note that we can also explicitly turn our values into an array\n",
      "# by using the \"values\" attribute\n"
     ],
     "language": "python",
     "metadata": {},
     "outputs": []
    },
    {
     "cell_type": "markdown",
     "metadata": {},
     "source": [
      "### However, pandas is much more powerful than this"
     ]
    },
    {
     "cell_type": "code",
     "collapsed": false,
     "input": [],
     "language": "python",
     "metadata": {},
     "outputs": []
    },
    {
     "cell_type": "markdown",
     "metadata": {},
     "source": [
      "####Note the two extra components of our dataframe (compared to an array)\n",
      "\n",
      "The left column is in bold, it is the \"index\" of the dataframe.  \n",
      "We can make a pandas index anything we'd like:"
     ]
    },
    {
     "cell_type": "code",
     "collapsed": false,
     "input": [
      "# This index is comprised of strings, not integers.  \n",
      "# We can use pandas to slice our data in intelligent ways (which we'll see in a bit)\n"
     ],
     "language": "python",
     "metadata": {},
     "outputs": []
    },
    {
     "cell_type": "markdown",
     "metadata": {},
     "source": [
      "The top row is also in bold, these are the _column headers_ of the pandas dataframe.  They're a set of labels that tell us what kind of data exists beneath them.  Guess what, you can change these too!"
     ]
    },
    {
     "cell_type": "code",
     "collapsed": false,
     "input": [
      "# I could use any list so long as len(mylist) == n_columns\n"
     ],
     "language": "python",
     "metadata": {},
     "outputs": []
    },
    {
     "cell_type": "markdown",
     "metadata": {},
     "source": [
      "#### Fancier slicing/indexing in pandas\n",
      "\n",
      "Since we have \"named\" columns and indices, pandas can use these in order to select data in a much more clear manner\n",
      "\n",
      "First, remember that we can use \"iloc\" to select things based off of their integer location:"
     ]
    },
    {
     "cell_type": "code",
     "collapsed": false,
     "input": [],
     "language": "python",
     "metadata": {},
     "outputs": []
    },
    {
     "cell_type": "markdown",
     "metadata": {},
     "source": [
      "But now, we can also use the **named** index/column values to select data"
     ]
    },
    {
     "cell_type": "code",
     "collapsed": false,
     "input": [],
     "language": "python",
     "metadata": {},
     "outputs": []
    },
    {
     "cell_type": "code",
     "collapsed": false,
     "input": [],
     "language": "python",
     "metadata": {},
     "outputs": []
    },
    {
     "cell_type": "code",
     "collapsed": false,
     "input": [],
     "language": "python",
     "metadata": {},
     "outputs": []
    },
    {
     "cell_type": "code",
     "collapsed": false,
     "input": [
      "## Adding a new column to dataframes is easy as well. \n",
      "# Just treat it like a dictionary\n"
     ],
     "language": "python",
     "metadata": {},
     "outputs": []
    },
    {
     "cell_type": "markdown",
     "metadata": {},
     "source": [
      "#### Iterating through Pandas arrays\n",
      "\n",
      "Iteration is a bit different in Pandas.  In general, it's easy to be very explicit about how you're iterating (e.g., by rows or columns).  All dataframes have an `iterrows` and `iteritems` method.  For this exercise, we'll focus on `iterrows`\n",
      "\n",
      "Iterrows - each iteration will return another row of the dataframe as (index, vals) pairs."
     ]
    },
    {
     "cell_type": "code",
     "collapsed": false,
     "input": [
      "# Each iteration returns a Pandas series, not a simple array.  \n",
      "# This lets you do useful things with it when you become a pandas guru...\n"
     ],
     "language": "python",
     "metadata": {},
     "outputs": []
    },
    {
     "cell_type": "markdown",
     "metadata": {},
     "source": [
      "#### Counting owls in Pandas"
     ]
    },
    {
     "cell_type": "code",
     "collapsed": false,
     "input": [
      "# It is easy to count things when we iterate row by row\n"
     ],
     "language": "python",
     "metadata": {},
     "outputs": []
    },
    {
     "cell_type": "markdown",
     "metadata": {},
     "source": [
      "However, we often don't need to iterate through rows because of how easy it is to index pandas dataframes.  For example..."
     ]
    },
    {
     "cell_type": "code",
     "collapsed": false,
     "input": [
      "# Here we first create a boolean index for the entries that contained owl\n",
      "# Then, we took the \"n_sandwiches\" column, and summed up the values.\n",
      "# Note that if you pass \"loc\" a boolean index, it knows how to use this instead\n",
      "# of an index name.\n"
     ],
     "language": "python",
     "metadata": {},
     "outputs": []
    },
    {
     "cell_type": "markdown",
     "metadata": {},
     "source": [
      "#### Writing back to CSV in pandas\n",
      "\n",
      "Finally, we can write our dataframe to a csv file very easily.  Dataframes have several methods for writing to a variety of filetyles, just type \"df.to_\" and press tab.  In this case, we'll use .to_csv"
     ]
    },
    {
     "cell_type": "code",
     "collapsed": false,
     "input": [],
     "language": "python",
     "metadata": {},
     "outputs": []
    },
    {
     "cell_type": "markdown",
     "metadata": {},
     "source": [
      "### EXERCISE 2 - Reading and writing using pandas\n",
      "\n",
      "1. Create a variable called `focusanimal` that is equal to Owl. Write code that reads a csv file of\n",
      "sightings, loops through the records, and counts the mean number of the focus animal seen per record. \n",
      "  - *HINT*: You should use two counter variables, `totalrecs` and `totalcount`, to track the number of records mentioning Owl and the total number of owls seen. Print out the answer to the file `sightings_tab_sm.csv` and make sure that it's correct.\n",
      "\n",
      "1. Repeat task #1 above, but using boolean indexing instead of a for loop.\n",
      "\n",
      "__Bonus__\n",
      "\n",
      "1. Starting with the file `sightings_tab_sm.csv`, write code that adds a column called 'taxa' that contains\n",
      "the word 'bird' if the animal is an Owl or a Ptarmigan (the two birds in this data set), and the word\n",
      "'mammal' otherwise. Save this csv file. \n",
      "  - HINT: You'll probably need to use a `for` loop, with an `if` statement\n",
      "inside of it, to view each record and to get and store the appropriate value in a `taxalist`. You can then append this `taxalist` to the table."
     ]
    },
    {
     "cell_type": "code",
     "collapsed": true,
     "input": [
      "# Answers to main questions\n"
     ],
     "language": "python",
     "metadata": {},
     "outputs": []
    },
    {
     "cell_type": "code",
     "collapsed": true,
     "input": [],
     "language": "python",
     "metadata": {},
     "outputs": []
    },
    {
     "cell_type": "code",
     "collapsed": false,
     "input": [],
     "language": "python",
     "metadata": {},
     "outputs": []
    },
    {
     "cell_type": "code",
     "collapsed": true,
     "input": [
      "# Answers to bonus questions\n"
     ],
     "language": "python",
     "metadata": {},
     "outputs": []
    },
    {
     "cell_type": "heading",
     "level": 2,
     "metadata": {},
     "source": [
      "Afterword"
     ]
    },
    {
     "cell_type": "markdown",
     "metadata": {},
     "source": [
      "Remember, `pandas` is an incredibly powerful tool that will take you a while to master (though it will certainly be worth it). This is just a small taste of all the things pandas can do, so don't feel discouraged if it seems totally overwhelming. Once you integrate it into your workflow, you will learn bit by bit. Also don't forget to consult the fantastic community of pythonistas around you here at Berkeley.\n",
      "\n",
      "In this lecture we've only covered a couple of the ways that you can read/write data.  While textfiles and CSV files are a common way of storing values, there many, many others.  Fortunately, Python has libraries for handling most of them.  Some things worth looking into are [JSON](http://www.json.org/), [HDF](http://www.hdfgroup.org/), [pickle](http://docs.python.org/2/library/pickle.html), and [savez](http://docs.scipy.org/doc/numpy/reference/generated/numpy.savez.html).\n",
      "\n",
      "As a general note, Pandas should have the ability to read/write to most of these types of storage.  One special case is when you use a proprietary storage format (e.g., if you've bought a machine that stores data in a company-specific way).  \n",
      "\n",
      "There are also many high-level file handlers in `numpy`, such as `loadtxt` and `savetxt`, that are also useful and we encourage you to look into them.  Finally, a totally different kind of data reading problem involves pulling data the internet.  For this, there are dedicated libraries for parsing websites and pulling information from them.  Rest-assured, these tools exist, but this challenge is beyond the scope of this lecture.  "
     ]
    },
    {
     "cell_type": "code",
     "collapsed": false,
     "input": [],
     "language": "python",
     "metadata": {},
     "outputs": []
    }
   ],
   "metadata": {}
  }
 ]
}